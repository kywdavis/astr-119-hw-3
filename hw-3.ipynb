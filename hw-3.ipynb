{
 "cells": [
  {
   "cell_type": "code",
   "execution_count": null,
   "metadata": {},
   "outputs": [],
   "source": [
    "%matplotlib inline\n",
    "import numpy as np\n",
    "import matplotlib.pyplot as plt"
   ]
  },
  {
   "cell_type": "code",
   "execution_count": null,
   "metadata": {},
   "outputs": [],
   "source": [
    "def function_for_roots(x):\n",
    "    a = 1.01\n",
    "    b = -3.04\n",
    "    c = 2.07\n",
    "    return a*(x**2) + b*x + c"
   ]
  },
  {
   "cell_type": "code",
   "execution_count": null,
   "metadata": {},
   "outputs": [],
   "source": [
    "def check_initial_values(f, x_min, x_max, tol=1.0e-6):\n",
    "    \n",
    "    y_min = f(x_min)\n",
    "    y_max = f(x_max)\n",
    "    \n",
    "    if y_min * y_max > 0:\n",
    "        print(\"No zero crossing found in domain\", x_min, \"to\", x_max)\n",
    "        return 0\n",
    "    if np.fabs(y_min) < tol:\n",
    "        return 1\n",
    "    \n",
    "    if np.fabs(y_max) < tol:\n",
    "        return 2\n",
    "    \n",
    "    return 3"
   ]
  },
  {
   "cell_type": "code",
   "execution_count": null,
   "metadata": {},
   "outputs": [],
   "source": [
    "def bi_find_root(f, x_min, x_max, tol=1.0e-6):\n",
    "    \n",
    "    x_mid = 0.0 #temp placeholder value\n",
    "    y_min = f(x_min)\n",
    "    y_max = f(x_max)\n",
    "    y_mid = 0.0\n",
    "    \n",
    "    imax = 10000\n",
    "    i = 0\n",
    "    \n",
    "    flag = check_initial_values(f, x_min, x_max, tol)\n",
    "    if flag == 0:\n",
    "        print(\"Error: No zeros in initial domain\")\n",
    "    elif flag == 1:\n",
    "        return x_min #boundary is root\n",
    "    elif flag == 2: #boundary is root\n",
    "        return x_max\n",
    "    \n",
    "    flag2 = 1\n",
    "    while(flag2 !=0):\n",
    "        x_mid = (x_min+x_max)*0.5\n",
    "        y_mid = f(x_mid)\n",
    "        i += 1\n",
    "        \n",
    "        if i>=imax:         \n",
    "            return \"Maximum number of iterations exceeded\"\n",
    "        \n",
    "        if (np.fabs(y_mid) < tol):\n",
    "            flag2 = 0\n",
    "        \n",
    "        else:\n",
    "            if (f(x_min)*f(x_mid)>0):\n",
    "                x_min = x_mid\n",
    "            else:\n",
    "                x_max = x_mid\n",
    "    \n",
    "    return i, x_mid"
   ]
  },
  {
   "cell_type": "code",
   "execution_count": null,
   "metadata": {},
   "outputs": [],
   "source": [
    "#boundaries\n",
    "x_min1 = 0.5\n",
    "x_max1 = 1.5\n",
    "\n",
    "iterations1, first_root = bi_find_root(function_for_roots, x_min1, x_max1)\n",
    "\n",
    "print(\"root found at x =\",first_root)\n",
    "print(\"on iteration number\", iterations1)"
   ]
  },
  {
   "cell_type": "code",
   "execution_count": null,
   "metadata": {},
   "outputs": [],
   "source": [
    "#boundaries\n",
    "x_min2 = 1.75\n",
    "x_max2 = 2.5\n",
    "\n",
    "iterations2, second_root = bi_find_root(function_for_roots, x_min2, x_max2)\n",
    "\n",
    "print(\"root found at x =\",second_root)\n",
    "print(\"on iteration number\", iterations2)"
   ]
  },
  {
   "cell_type": "code",
   "execution_count": null,
   "metadata": {},
   "outputs": [],
   "source": [
    "x = np.linspace(0, 3, 1000)\n",
    "y = function_for_roots(x)\n",
    "\n",
    "plt.plot(x,y)\n",
    "\n",
    "#boundary for first root search\n",
    "plt.plot(x_min1,function_for_roots(x_min1), 'ro')\n",
    "plt.plot(x_max1,function_for_roots(x_max1), 'ro')\n",
    "\n",
    "#boundary for second root search\n",
    "plt.plot(x_min2,function_for_roots(x_min2), 'go')\n",
    "plt.plot(x_max2,function_for_roots(x_max2), 'go')\n",
    "\n",
    "#roots\n",
    "plt.plot(first_root, function_for_roots(first_root), 'bo')\n",
    "plt.plot(second_root, function_for_roots(second_root), 'bo')\n",
    "\n",
    "plt.axhline(y=0, color = \"black\")\n",
    "plt.xlim([0, 3])\n",
    "plt.ylim([-0.5, 2.1])"
   ]
  },
  {
   "cell_type": "code",
   "execution_count": null,
   "metadata": {},
   "outputs": [],
   "source": []
  }
 ],
 "metadata": {
  "kernelspec": {
   "display_name": "Python 3",
   "language": "python",
   "name": "python3"
  },
  "language_info": {
   "codemirror_mode": {
    "name": "ipython",
    "version": 3
   },
   "file_extension": ".py",
   "mimetype": "text/x-python",
   "name": "python",
   "nbconvert_exporter": "python",
   "pygments_lexer": "ipython3",
   "version": "3.6.4"
  }
 },
 "nbformat": 4,
 "nbformat_minor": 2
}
